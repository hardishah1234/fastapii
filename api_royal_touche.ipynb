{
 "cells": [
  {
   "cell_type": "code",
   "execution_count": 2,
   "id": "b9a0e01a",
   "metadata": {},
   "outputs": [],
   "source": [
    "import numpy as np\n",
    "import pandas as pd\n",
    "import pickle"
   ]
  },
  {
   "cell_type": "code",
   "execution_count": 3,
   "id": "fd94a8e7",
   "metadata": {},
   "outputs": [],
   "source": [
    "laminate = pd.read_csv('laminates.csv')"
   ]
  },
  {
   "cell_type": "code",
   "execution_count": 4,
   "id": "180d6a86",
   "metadata": {},
   "outputs": [
    {
     "data": {
      "text/html": [
       "<div>\n",
       "<style scoped>\n",
       "    .dataframe tbody tr th:only-of-type {\n",
       "        vertical-align: middle;\n",
       "    }\n",
       "\n",
       "    .dataframe tbody tr th {\n",
       "        vertical-align: top;\n",
       "    }\n",
       "\n",
       "    .dataframe thead th {\n",
       "        text-align: right;\n",
       "    }\n",
       "</style>\n",
       "<table border=\"1\" class=\"dataframe\">\n",
       "  <thead>\n",
       "    <tr style=\"text-align: right;\">\n",
       "      <th></th>\n",
       "      <th>design_no</th>\n",
       "      <th>laminate_code</th>\n",
       "      <th>page_no</th>\n",
       "      <th>assigned_value</th>\n",
       "      <th>finish_name</th>\n",
       "      <th>laminate</th>\n",
       "    </tr>\n",
       "  </thead>\n",
       "  <tbody>\n",
       "    <tr>\n",
       "      <th>0</th>\n",
       "      <td>1322</td>\n",
       "      <td>AB</td>\n",
       "      <td>54.0</td>\n",
       "      <td>1322</td>\n",
       "      <td>NaN</td>\n",
       "      <td>verticalwood</td>\n",
       "    </tr>\n",
       "    <tr>\n",
       "      <th>1</th>\n",
       "      <td>1466</td>\n",
       "      <td>AL</td>\n",
       "      <td>45.0</td>\n",
       "      <td>1466</td>\n",
       "      <td>NaN</td>\n",
       "      <td>verticalwood</td>\n",
       "    </tr>\n",
       "    <tr>\n",
       "      <th>2</th>\n",
       "      <td>1161 (3)</td>\n",
       "      <td>AR</td>\n",
       "      <td>28.0</td>\n",
       "      <td>11612</td>\n",
       "      <td>NaN</td>\n",
       "      <td>stone solidcolor</td>\n",
       "    </tr>\n",
       "    <tr>\n",
       "      <th>3</th>\n",
       "      <td>1162 (2)</td>\n",
       "      <td>AR</td>\n",
       "      <td>28.0</td>\n",
       "      <td>11622</td>\n",
       "      <td>glossy</td>\n",
       "      <td>stone solidcolor</td>\n",
       "    </tr>\n",
       "    <tr>\n",
       "      <th>4</th>\n",
       "      <td>1620</td>\n",
       "      <td>AR</td>\n",
       "      <td>28.0</td>\n",
       "      <td>1620</td>\n",
       "      <td>NaN</td>\n",
       "      <td>stone</td>\n",
       "    </tr>\n",
       "  </tbody>\n",
       "</table>\n",
       "</div>"
      ],
      "text/plain": [
       "  design_no laminate_code  page_no  assigned_value finish_name  \\\n",
       "0      1322            AB     54.0            1322         NaN   \n",
       "1      1466            AL     45.0            1466         NaN   \n",
       "2  1161 (3)            AR     28.0           11612         NaN   \n",
       "3  1162 (2)            AR     28.0           11622      glossy   \n",
       "4      1620            AR     28.0            1620         NaN   \n",
       "\n",
       "           laminate  \n",
       "0      verticalwood  \n",
       "1      verticalwood  \n",
       "2  stone solidcolor  \n",
       "3  stone solidcolor  \n",
       "4             stone  "
      ]
     },
     "execution_count": 4,
     "metadata": {},
     "output_type": "execute_result"
    }
   ],
   "source": [
    "laminate.head()"
   ]
  },
  {
   "cell_type": "code",
   "execution_count": 5,
   "id": "2e7d8655",
   "metadata": {},
   "outputs": [],
   "source": [
    "laminates = laminate[['design_no','laminate_code','assigned_value','laminate']]"
   ]
  },
  {
   "cell_type": "code",
   "execution_count": 6,
   "id": "495035e2",
   "metadata": {},
   "outputs": [
    {
     "data": {
      "text/html": [
       "<div>\n",
       "<style scoped>\n",
       "    .dataframe tbody tr th:only-of-type {\n",
       "        vertical-align: middle;\n",
       "    }\n",
       "\n",
       "    .dataframe tbody tr th {\n",
       "        vertical-align: top;\n",
       "    }\n",
       "\n",
       "    .dataframe thead th {\n",
       "        text-align: right;\n",
       "    }\n",
       "</style>\n",
       "<table border=\"1\" class=\"dataframe\">\n",
       "  <thead>\n",
       "    <tr style=\"text-align: right;\">\n",
       "      <th></th>\n",
       "      <th>design_no</th>\n",
       "      <th>laminate_code</th>\n",
       "      <th>assigned_value</th>\n",
       "      <th>laminate</th>\n",
       "    </tr>\n",
       "  </thead>\n",
       "  <tbody>\n",
       "    <tr>\n",
       "      <th>0</th>\n",
       "      <td>1322</td>\n",
       "      <td>AB</td>\n",
       "      <td>1322</td>\n",
       "      <td>verticalwood</td>\n",
       "    </tr>\n",
       "    <tr>\n",
       "      <th>1</th>\n",
       "      <td>1466</td>\n",
       "      <td>AL</td>\n",
       "      <td>1466</td>\n",
       "      <td>verticalwood</td>\n",
       "    </tr>\n",
       "    <tr>\n",
       "      <th>2</th>\n",
       "      <td>1161 (3)</td>\n",
       "      <td>AR</td>\n",
       "      <td>11612</td>\n",
       "      <td>stone solidcolor</td>\n",
       "    </tr>\n",
       "    <tr>\n",
       "      <th>3</th>\n",
       "      <td>1162 (2)</td>\n",
       "      <td>AR</td>\n",
       "      <td>11622</td>\n",
       "      <td>stone solidcolor</td>\n",
       "    </tr>\n",
       "    <tr>\n",
       "      <th>4</th>\n",
       "      <td>1620</td>\n",
       "      <td>AR</td>\n",
       "      <td>1620</td>\n",
       "      <td>stone</td>\n",
       "    </tr>\n",
       "  </tbody>\n",
       "</table>\n",
       "</div>"
      ],
      "text/plain": [
       "  design_no laminate_code  assigned_value          laminate\n",
       "0      1322            AB            1322      verticalwood\n",
       "1      1466            AL            1466      verticalwood\n",
       "2  1161 (3)            AR           11612  stone solidcolor\n",
       "3  1162 (2)            AR           11622  stone solidcolor\n",
       "4      1620            AR            1620             stone"
      ]
     },
     "execution_count": 6,
     "metadata": {},
     "output_type": "execute_result"
    }
   ],
   "source": [
    "laminates.head()"
   ]
  },
  {
   "cell_type": "code",
   "execution_count": 7,
   "id": "6f70ce72",
   "metadata": {},
   "outputs": [
    {
     "data": {
      "text/plain": [
       "<bound method DataFrame.dropna of     design_no laminate_code  assigned_value                 laminate\n",
       "0        1322            AB            1322             verticalwood\n",
       "1        1466            AL            1466             verticalwood\n",
       "2    1161 (3)            AR           11612         stone solidcolor\n",
       "3    1162 (2)            AR           11622         stone solidcolor\n",
       "4        1620            AR            1620                    stone\n",
       "..        ...           ...             ...                      ...\n",
       "886      1593            WB            1593  verticalwood exoticwood\n",
       "887      1600            WB            1600  verticalwood exoticwood\n",
       "888   132 (9)            WD          132100  verticalwood solidcolor\n",
       "889   583 (2)            WD            5831             verticalwood\n",
       "890   992 (2)            WD            9921             verticalwood\n",
       "\n",
       "[891 rows x 4 columns]>"
      ]
     },
     "execution_count": 7,
     "metadata": {},
     "output_type": "execute_result"
    }
   ],
   "source": [
    "laminates.dropna"
   ]
  },
  {
   "cell_type": "code",
   "execution_count": 8,
   "id": "9fe35a99",
   "metadata": {},
   "outputs": [],
   "source": [
    "import sklearn"
   ]
  },
  {
   "cell_type": "code",
   "execution_count": 9,
   "id": "24027d3f",
   "metadata": {},
   "outputs": [],
   "source": [
    "from sklearn.feature_extraction.text import TfidfVectorizer"
   ]
  },
  {
   "cell_type": "code",
   "execution_count": 10,
   "id": "ec32316b",
   "metadata": {},
   "outputs": [],
   "source": [
    "tfid = TfidfVectorizer(max_features=100)"
   ]
  },
  {
   "cell_type": "code",
   "execution_count": 11,
   "id": "d5fa39fd",
   "metadata": {},
   "outputs": [
    {
     "name": "stderr",
     "output_type": "stream",
     "text": [
      "C:\\Users\\Dell\\AppData\\Local\\Temp\\ipykernel_1064\\265461977.py:1: SettingWithCopyWarning: \n",
      "A value is trying to be set on a copy of a slice from a DataFrame.\n",
      "Try using .loc[row_indexer,col_indexer] = value instead\n",
      "\n",
      "See the caveats in the documentation: https://pandas.pydata.org/pandas-docs/stable/user_guide/indexing.html#returning-a-view-versus-a-copy\n",
      "  laminates['laminate']=laminates['laminate'].fillna(' ')\n"
     ]
    }
   ],
   "source": [
    "laminates['laminate']=laminates['laminate'].fillna(' ')"
   ]
  },
  {
   "cell_type": "code",
   "execution_count": 12,
   "id": "2e1b88b4",
   "metadata": {},
   "outputs": [],
   "source": [
    "tfid_matrix=tfid.fit_transform(laminates['laminate'])"
   ]
  },
  {
   "cell_type": "code",
   "execution_count": 13,
   "id": "1ac37d28",
   "metadata": {},
   "outputs": [
    {
     "data": {
      "text/plain": [
       "(891, 9)"
      ]
     },
     "execution_count": 13,
     "metadata": {},
     "output_type": "execute_result"
    }
   ],
   "source": [
    "tfid_matrix.shape"
   ]
  },
  {
   "cell_type": "code",
   "execution_count": 14,
   "id": "5807da99",
   "metadata": {},
   "outputs": [
    {
     "data": {
      "text/plain": [
       "<891x9 sparse matrix of type '<class 'numpy.float64'>'\n",
       "\twith 937 stored elements in Compressed Sparse Row format>"
      ]
     },
     "execution_count": 14,
     "metadata": {},
     "output_type": "execute_result"
    }
   ],
   "source": [
    "tfid_matrix"
   ]
  },
  {
   "cell_type": "code",
   "execution_count": 15,
   "id": "72a305c7",
   "metadata": {},
   "outputs": [],
   "source": [
    "from sklearn.metrics.pairwise import sigmoid_kernel"
   ]
  },
  {
   "cell_type": "code",
   "execution_count": 16,
   "id": "e70a3838",
   "metadata": {},
   "outputs": [],
   "source": [
    "sig = sigmoid_kernel(tfid_matrix, tfid_matrix)"
   ]
  },
  {
   "cell_type": "code",
   "execution_count": 17,
   "id": "185f51d1",
   "metadata": {},
   "outputs": [],
   "source": [
    "indices = pd.Series(laminates.index, index=laminates['assigned_value']).drop_duplicates()"
   ]
  },
  {
   "cell_type": "code",
   "execution_count": 18,
   "id": "cf41b174",
   "metadata": {},
   "outputs": [],
   "source": [
    "def recommend(title, sig=sig):\n",
    "    idx = indices[title]\n",
    "    sig_scores = list(enumerate(sig[idx]))\n",
    "    sig_scores = sorted(sig_scores, key=lambda x: x[1], reverse=True)\n",
    "    sig_scores = sig_scores[1:11]\n",
    "    laminate_indices = [i[0] for i in sig_scores]\n",
    "    return laminates.iloc[laminate_indices]\n"
   ]
  },
  {
   "cell_type": "code",
   "execution_count": 19,
   "id": "50185ade",
   "metadata": {
    "scrolled": false
   },
   "outputs": [
    {
     "data": {
      "text/html": [
       "<div>\n",
       "<style scoped>\n",
       "    .dataframe tbody tr th:only-of-type {\n",
       "        vertical-align: middle;\n",
       "    }\n",
       "\n",
       "    .dataframe tbody tr th {\n",
       "        vertical-align: top;\n",
       "    }\n",
       "\n",
       "    .dataframe thead th {\n",
       "        text-align: right;\n",
       "    }\n",
       "</style>\n",
       "<table border=\"1\" class=\"dataframe\">\n",
       "  <thead>\n",
       "    <tr style=\"text-align: right;\">\n",
       "      <th></th>\n",
       "      <th>design_no</th>\n",
       "      <th>laminate_code</th>\n",
       "      <th>assigned_value</th>\n",
       "      <th>laminate</th>\n",
       "    </tr>\n",
       "  </thead>\n",
       "  <tbody>\n",
       "    <tr>\n",
       "      <th>18</th>\n",
       "      <td>1642</td>\n",
       "      <td>BG</td>\n",
       "      <td>1642</td>\n",
       "      <td>stone vibrant</td>\n",
       "    </tr>\n",
       "    <tr>\n",
       "      <th>182</th>\n",
       "      <td>1201</td>\n",
       "      <td>CRYSTAL</td>\n",
       "      <td>1201</td>\n",
       "      <td>stone vibrant</td>\n",
       "    </tr>\n",
       "    <tr>\n",
       "      <th>183</th>\n",
       "      <td>1202</td>\n",
       "      <td>CRYSTAL</td>\n",
       "      <td>1202</td>\n",
       "      <td>stone vibrant</td>\n",
       "    </tr>\n",
       "    <tr>\n",
       "      <th>194</th>\n",
       "      <td>1213 (2)</td>\n",
       "      <td>CRYSTAL</td>\n",
       "      <td>12131</td>\n",
       "      <td>stone vibrant</td>\n",
       "    </tr>\n",
       "    <tr>\n",
       "      <th>196</th>\n",
       "      <td>1215 (2)</td>\n",
       "      <td>CRYSTAL</td>\n",
       "      <td>12151</td>\n",
       "      <td>stone vibrant</td>\n",
       "    </tr>\n",
       "    <tr>\n",
       "      <th>202</th>\n",
       "      <td>1227 (2)</td>\n",
       "      <td>CRYSTAL</td>\n",
       "      <td>12271</td>\n",
       "      <td>stone vibrant</td>\n",
       "    </tr>\n",
       "    <tr>\n",
       "      <th>228</th>\n",
       "      <td>1264 (2)</td>\n",
       "      <td>CRYSTAL</td>\n",
       "      <td>12641</td>\n",
       "      <td>stone vibrant</td>\n",
       "    </tr>\n",
       "    <tr>\n",
       "      <th>277</th>\n",
       "      <td>1215 (2)</td>\n",
       "      <td>CRYSTAL Z+BG</td>\n",
       "      <td>12152</td>\n",
       "      <td>stone vibrant</td>\n",
       "    </tr>\n",
       "    <tr>\n",
       "      <th>278</th>\n",
       "      <td>1240 (2)</td>\n",
       "      <td>CRYSTAL Z+BG</td>\n",
       "      <td>12402</td>\n",
       "      <td>stone vibrant</td>\n",
       "    </tr>\n",
       "    <tr>\n",
       "      <th>319</th>\n",
       "      <td>1213 (2)</td>\n",
       "      <td>CRYSTAL Z+SV</td>\n",
       "      <td>12132</td>\n",
       "      <td>stone vibrant</td>\n",
       "    </tr>\n",
       "  </tbody>\n",
       "</table>\n",
       "</div>"
      ],
      "text/plain": [
       "    design_no laminate_code  assigned_value       laminate\n",
       "18       1642            BG            1642  stone vibrant\n",
       "182      1201       CRYSTAL            1201  stone vibrant\n",
       "183      1202       CRYSTAL            1202  stone vibrant\n",
       "194  1213 (2)       CRYSTAL           12131  stone vibrant\n",
       "196  1215 (2)       CRYSTAL           12151  stone vibrant\n",
       "202  1227 (2)       CRYSTAL           12271  stone vibrant\n",
       "228  1264 (2)       CRYSTAL           12641  stone vibrant\n",
       "277  1215 (2)  CRYSTAL Z+BG           12152  stone vibrant\n",
       "278  1240 (2)  CRYSTAL Z+BG           12402  stone vibrant\n",
       "319  1213 (2)  CRYSTAL Z+SV           12132  stone vibrant"
      ]
     },
     "execution_count": 19,
     "metadata": {},
     "output_type": "execute_result"
    }
   ],
   "source": [
    "recommend(7005)"
   ]
  },
  {
   "cell_type": "code",
   "execution_count": 22,
   "id": "e4e58e9b",
   "metadata": {},
   "outputs": [],
   "source": [
    "filename=\"royaletouche_pkl.pkl\"\n",
    "pickle.dump(laminates,open(filename,'wb'))"
   ]
  },
  {
   "cell_type": "code",
   "execution_count": 20,
   "id": "740ac35a",
   "metadata": {},
   "outputs": [],
   "source": [
    "pickle.dump(indices,open('indicesx','wb'))"
   ]
  },
  {
   "cell_type": "code",
   "execution_count": 21,
   "id": "69773ade",
   "metadata": {},
   "outputs": [],
   "source": [
    "pickle.dump(sig,open('sigx','wb'))"
   ]
  },
  {
   "cell_type": "code",
   "execution_count": null,
   "id": "2ba2f9ea",
   "metadata": {},
   "outputs": [],
   "source": []
  }
 ],
 "metadata": {
  "kernelspec": {
   "display_name": "Python 3 (ipykernel)",
   "language": "python",
   "name": "python3"
  },
  "language_info": {
   "codemirror_mode": {
    "name": "ipython",
    "version": 3
   },
   "file_extension": ".py",
   "mimetype": "text/x-python",
   "name": "python",
   "nbconvert_exporter": "python",
   "pygments_lexer": "ipython3",
   "version": "3.11.1"
  }
 },
 "nbformat": 4,
 "nbformat_minor": 5
}
